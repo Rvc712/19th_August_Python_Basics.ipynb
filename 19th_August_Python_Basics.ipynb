{
 "cells": [
  {
   "cell_type": "code",
   "execution_count": 11,
   "id": "3256c747-4789-4dfa-b47f-5b6e09b38e3f",
   "metadata": {},
   "outputs": [
    {
     "name": "stdout",
     "output_type": "stream",
     "text": [
      "8\n",
      "7\n"
     ]
    }
   ],
   "source": [
    "#///question swapping variable \n",
    "#///what are variable ? -> simple containers for storiing data values\n",
    "x=7\n",
    "y=8\n",
    "temp = x\n",
    "x=y\n",
    "y=temp\n",
    "print (x)\n",
    "print(y)\n",
    "      "
   ]
  },
  {
   "cell_type": "code",
   "execution_count": 21,
   "id": "be3ee67c-4f02-4c60-b067-e86620bb3d7b",
   "metadata": {},
   "outputs": [
    {
     "name": "stdin",
     "output_type": "stream",
     "text": [
      "enter length: 7\n",
      "enter breadth: 7\n"
     ]
    },
    {
     "name": "stdout",
     "output_type": "stream",
     "text": [
      "area of rectangle: 49\n"
     ]
    }
   ],
   "source": [
    "\n",
    "l=int(input(\"enter length:\"))\n",
    "b=int(input(\"enter breadth:\"))\n",
    "area = l*b\n",
    "print(\"area of rectangle:\",area)\n",
    "\n",
    "\n",
    "       \n",
    "\n"
   ]
  },
  {
   "cell_type": "code",
   "execution_count": 25,
   "id": "5ee456ce-daa4-4319-bbb5-b5f53ea77f28",
   "metadata": {},
   "outputs": [
    {
     "name": "stdin",
     "output_type": "stream",
     "text": [
      "enter celsius: 0\n"
     ]
    },
    {
     "name": "stdout",
     "output_type": "stream",
     "text": [
      "the converted farenheit is: 32\n"
     ]
    }
   ],
   "source": [
    "celsius=int(input(\"enter celsius:\"))\n",
    "farenheit=int(celsius*(1.8)+32)\n",
    "print(\"the converted farenheit is:\",farenheit)\n"
   ]
  },
  {
   "cell_type": "code",
   "execution_count": 31,
   "id": "2fe8675a-9076-416e-a6f4-fcb1b4f11094",
   "metadata": {},
   "outputs": [
    {
     "name": "stdin",
     "output_type": "stream",
     "text": [
      "enter string: r\n"
     ]
    },
    {
     "name": "stdout",
     "output_type": "stream",
     "text": [
      "1\n"
     ]
    }
   ],
   "source": [
    "str=input(\"enter string:\")\n",
    "counter = 0\n",
    "for s in str:\n",
    "    counter = counter+1\n",
    "    print(counter)"
   ]
  },
  {
   "cell_type": "code",
   "execution_count": 43,
   "id": "449552b8-76f8-4c9c-8592-e52a11654ab8",
   "metadata": {},
   "outputs": [
    {
     "name": "stdin",
     "output_type": "stream",
     "text": [
      "enter sentence: i love food\n"
     ]
    },
    {
     "name": "stdout",
     "output_type": "stream",
     "text": [
      "i love food\n",
      "1\n",
      "2\n",
      "3\n",
      "4\n",
      "5\n"
     ]
    }
   ],
   "source": [
    "sentence=input(\"enter sentence:\")\n",
    "string=sentence.lower()\n",
    "print (string)\n",
    "counter = 0\n",
    "list1=[\"a\",\"e\",\"i\",\"o\",\"u\"]\n",
    "for s in string:\n",
    "       if s in list1:\n",
    "        counter = counter+1\n",
    "        print(counter)\n",
    "         \n"
   ]
  },
  {
   "cell_type": "code",
   "execution_count": 49,
   "id": "07a6a856-1d75-4fbd-8020-26a880c3672c",
   "metadata": {},
   "outputs": [
    {
     "data": {
      "text/plain": [
       "'!dlroW ,olleH'"
      ]
     },
     "execution_count": 49,
     "metadata": {},
     "output_type": "execute_result"
    }
   ],
   "source": [
    ">>> def reversed_string(text):\n",
    "...     result = \"\"\n",
    "...     for char in text:\n",
    "...         result = char + result\n",
    "...     return result\n",
    "...\n",
    "\n",
    ">>> reversed_string(\"Hello, World!\")"
   ]
  },
  {
   "cell_type": "code",
   "execution_count": 50,
   "id": "a52da046-615b-4b6c-9b23-047cc68abd6a",
   "metadata": {},
   "outputs": [
    {
     "name": "stdout",
     "output_type": "stream",
     "text": [
      "Yes\n"
     ]
    }
   ],
   "source": [
    "def isPalindrome(str):\n",
    " \n",
    "    \n",
    "    for i in range(0, int(len(str)/2)):\n",
    "        if str[i] != str[len(str)-i-1]:\n",
    "            return False\n",
    "    return True\n",
    " \n",
    "\n",
    "s = \"malayalam\"\n",
    "ans = isPalindrome(s)\n",
    " \n",
    "if (ans):\n",
    "    print(\"Yes\")\n",
    "else:\n",
    "    print(\"No\")"
   ]
  },
  {
   "cell_type": "code",
   "execution_count": 52,
   "id": "08fd3358-d8b7-415b-9fc5-9a0e626f55e2",
   "metadata": {},
   "outputs": [
    {
     "name": "stdout",
     "output_type": "stream",
     "text": [
      "rutu\n"
     ]
    }
   ],
   "source": [
    "#Create a program that takes a string as input and removes all the spaces from\n",
    "#it. Print the modified string without spaces.\n",
    "\n",
    "def remove(string):\n",
    "\treturn string.replace(\" \", \"\")\n",
    "\n",
    "\n",
    "\n",
    "string = ' r u t u '\n",
    "print(remove(string))\n",
    "\n"
   ]
  },
  {
   "cell_type": "code",
   "execution_count": null,
   "id": "91c6002b-0fb9-41da-8575-7dc38d8130f2",
   "metadata": {},
   "outputs": [],
   "source": []
  }
 ],
 "metadata": {
  "kernelspec": {
   "display_name": "Python 3 (ipykernel)",
   "language": "python",
   "name": "python3"
  },
  "language_info": {
   "codemirror_mode": {
    "name": "ipython",
    "version": 3
   },
   "file_extension": ".py",
   "mimetype": "text/x-python",
   "name": "python",
   "nbconvert_exporter": "python",
   "pygments_lexer": "ipython3",
   "version": "3.10.8"
  }
 },
 "nbformat": 4,
 "nbformat_minor": 5
}
